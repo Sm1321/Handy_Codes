{
 "cells": [
  {
   "cell_type": "code",
   "execution_count": 6,
   "id": "1bf6d472",
   "metadata": {},
   "outputs": [],
   "source": [
    "import logging\n",
    "\n",
    "## Configure the basic logging Settings\n",
    "logging.basicConfig(level = logging.DEBUG)\n",
    "\n",
    "##log messages with diffrent severity levels\n",
    "logging.debug(\"This is a Debug Message\")\n",
    "logging.info(\"This is an info message\")\n",
    "logging.warning(\"This is warning message\")\n",
    "logging.error(\"This is error message\")\n",
    "logging.critical(\"This is a critical Message\")"
   ]
  },
  {
   "cell_type": "markdown",
   "id": "e88d66dd",
   "metadata": {},
   "source": [
    "## Log Levels in Python:\n",
    "- **DEBUG**: Detailed information, typically of interest only when diagnosing problems.\n",
    "- **INFO**: Confirmation that things are working as expected.\n",
    "- **WARNING**: An indication that something unexpected happened or indicative of some problem in the near future (e.g., 'disk space low'). The software is still working as expected.\n",
    "- **ERROR**: Due to a more serious problem, the software has not been able to perform some function.\n",
    "- **CRITICAL**: A very serious error, indicating that the program itself may be unable to continue running.\n",
    "\n"
   ]
  },
  {
   "cell_type": "code",
   "execution_count": 7,
   "id": "4ec92d62",
   "metadata": {},
   "outputs": [],
   "source": [
    "import logging\n",
    "\n",
    "# configuring logging\n",
    "logging.basicConfig(\n",
    "    filename = 'app.log',\n",
    "    filemode = 'w',\n",
    "    level = logging.DEBUG,\n",
    "    format = '%(asctime)s-%(name)s-%(levelname)s-%(message)s',\n",
    "    datefmt = '%Y-%m-%d %H:%M:%S'\n",
    ")\n",
    "\n",
    "# log messages with different severity levels\n",
    "logging.debug(\"This is a Debug Message\")\n",
    "logging.info(\"This is an info message\")\n",
    "logging.warning(\"This is warning message\")\n",
    "logging.error(\"This is error message\")\n",
    "logging.critical(\"This is a critical Message\")"
   ]
  },
  {
   "cell_type": "code",
   "execution_count": null,
   "id": "4cc13b57",
   "metadata": {},
   "outputs": [],
   "source": []
  },
  {
   "cell_type": "code",
   "execution_count": null,
   "id": "e887e053",
   "metadata": {},
   "outputs": [],
   "source": []
  },
  {
   "cell_type": "code",
   "execution_count": null,
   "id": "24d78a4c",
   "metadata": {},
   "outputs": [],
   "source": []
  },
  {
   "cell_type": "code",
   "execution_count": null,
   "id": "5cff3575",
   "metadata": {},
   "outputs": [],
   "source": []
  },
  {
   "cell_type": "code",
   "execution_count": null,
   "id": "2ea7d509",
   "metadata": {},
   "outputs": [],
   "source": []
  }
 ],
 "metadata": {
  "kernelspec": {
   "display_name": "base",
   "language": "python",
   "name": "python3"
  },
  "language_info": {
   "codemirror_mode": {
    "name": "ipython",
    "version": 3
   },
   "file_extension": ".py",
   "mimetype": "text/x-python",
   "name": "python",
   "nbconvert_exporter": "python",
   "pygments_lexer": "ipython3",
   "version": "3.12.7"
  }
 },
 "nbformat": 4,
 "nbformat_minor": 5
}
