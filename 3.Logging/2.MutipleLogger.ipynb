{
 "cells": [
  {
   "cell_type": "markdown",
   "id": "f9907ff1",
   "metadata": {},
   "source": [
    "## Logging with Multiple Loggers\n",
    "- You can create multiple loggers for diffrent parts of your application"
   ]
  },
  {
   "cell_type": "code",
   "execution_count": 2,
   "id": "9c4ef1e9",
   "metadata": {},
   "outputs": [],
   "source": [
    "import logging\n",
    "\n",
    "## Create a logger for module1\n",
    "logger1 = logging.getLogger(\"module1\")\n",
    "logger1.setLevel(logging.DEBUG)\n",
    "\n",
    "## Create a loggger for module 2\n",
    "logger2 = logging.getLogger(\"module2\")\n",
    "logger2.setLevel(logging.WARNING)\n",
    "\n",
    "\n",
    "# configuring logging\n",
    "logging.basicConfig(\n",
    "    filename = 'app.log',\n",
    "    filemode = 'w',\n",
    "    level = logging.DEBUG,\n",
    "    format = '%(asctime)s-%(name)s-%(levelname)s-%(message)s',\n",
    "    datefmt = '%Y-%m-%d %H:%M:%S'\n",
    ")"
   ]
  },
  {
   "cell_type": "code",
   "execution_count": null,
   "id": "dd32b7a6",
   "metadata": {},
   "outputs": [],
   "source": [
    "## log mesage with diffrent loggers\n",
    "logger1.debug(\"This is debug messages for module1\")\n",
    "logger2.warning(\"This is a warning message for module 2\")\n",
    "logger2.error(\"This is an error\")"
   ]
  },
  {
   "cell_type": "markdown",
   "id": "e5fc562c",
   "metadata": {},
   "source": [
    "## Key Takeaways\n",
    "- Multiple loggers can be created for different modules in a Python application.\n",
    "- Each logger can have its own logging level and configuration.\n",
    "- The `logging.getLogger()` function is used to create loggers for specific modules.\n",
    "- Logging levels must be specified in uppercase, such as `DEBUG` and `WARNING`."
   ]
  },
  {
   "cell_type": "code",
   "execution_count": null,
   "id": "2b973fe9",
   "metadata": {},
   "outputs": [],
   "source": []
  }
 ],
 "metadata": {
  "kernelspec": {
   "display_name": "venv",
   "language": "python",
   "name": "python3"
  },
  "language_info": {
   "codemirror_mode": {
    "name": "ipython",
    "version": 3
   },
   "file_extension": ".py",
   "mimetype": "text/x-python",
   "name": "python",
   "nbconvert_exporter": "python",
   "pygments_lexer": "ipython3",
   "version": "3.12.11"
  }
 },
 "nbformat": 4,
 "nbformat_minor": 5
}
