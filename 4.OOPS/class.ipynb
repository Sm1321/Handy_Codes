{
 "cells": [
  {
   "cell_type": "code",
   "execution_count": 1,
   "id": "4a10efd4",
   "metadata": {},
   "outputs": [
    {
     "data": {
      "text/plain": [
       "'c:\\\\MY_Folder\\\\Git_Folders\\\\Handy_Codes\\\\4.OOPS'"
      ]
     },
     "execution_count": 1,
     "metadata": {},
     "output_type": "execute_result"
    }
   ],
   "source": [
    "import os\n",
    "os.getcwd()"
   ]
  },
  {
   "cell_type": "markdown",
   "id": "07166a08",
   "metadata": {},
   "source": [
    "`Definition of 'self':` \n",
    "- 'Self' refers to the current instance of a class, allowing methods to access the instance's attributes and methods."
   ]
  },
  {
   "cell_type": "code",
   "execution_count": null,
   "id": "146c746b",
   "metadata": {},
   "outputs": [],
   "source": [
    "class Backpack:\n",
    "    def __init__(self,color,size):\n",
    "        self.items = [] #Empty list\n",
    "        self.color = color\n",
    "        self.size = size"
   ]
  },
  {
   "cell_type": "code",
   "execution_count": 11,
   "id": "d14cc20b",
   "metadata": {},
   "outputs": [
    {
     "data": {
      "text/plain": [
       "3.142857142857143"
      ]
     },
     "execution_count": 11,
     "metadata": {},
     "output_type": "execute_result"
    }
   ],
   "source": [
    "class Circle:\n",
    "    def __init__(self ,color = \"Blue\"):\n",
    "        self.color = color\n",
    "        \n",
    "    def area_of_circle(self,radius): \n",
    "        self.radius = radius\n",
    "        return 22 / 7 * (self.radius ** 2)  # se self.radius\n",
    "    \n",
    "#Call the Circle class\n",
    "temp = Circle()\n",
    "temp.area_of_circle(1)    "
   ]
  },
  {
   "cell_type": "code",
   "execution_count": 12,
   "id": "2621191d",
   "metadata": {},
   "outputs": [
    {
     "name": "stdout",
     "output_type": "stream",
     "text": [
      "Area: 15\n",
      "Perimeter: 16\n"
     ]
    }
   ],
   "source": [
    "class Rectangle:\n",
    "    def __init__(self, length, breadth):\n",
    "        self.length = length\n",
    "        self.breadth = breadth\n",
    "    \n",
    "    def area(self):\n",
    "        return self.length * self.breadth\n",
    "    \n",
    "    def perimeter(self):\n",
    "        return 2 * (self.length + self.breadth)\n",
    "\n",
    "# Example usage:\n",
    "my_rectangle = Rectangle(5, 3)\n",
    "print(\"Area:\", my_rectangle.area())        # Output: Area: 15\n",
    "print(\"Perimeter:\", my_rectangle.perimeter())  # Output: Perimeter: 16"
   ]
  },
  {
   "cell_type": "code",
   "execution_count": null,
   "id": "86abe809",
   "metadata": {},
   "outputs": [],
   "source": [
    "class Movie:\n",
    "    def __init__(self,title,year,language,rating):\n",
    "        self.title = title \n",
    "        self.year = year \n",
    "        self.langauge = language\n",
    "        self.rating = rating\n",
    "        "
   ]
  },
  {
   "cell_type": "code",
   "execution_count": 18,
   "id": "53f12c6b",
   "metadata": {},
   "outputs": [
    {
     "name": "stdout",
     "output_type": "stream",
     "text": [
      "<__main__.Backpack object at 0x000001ABFFD05E20>\n",
      "<__main__.Backpack object at 0x000001ABFFD05E20>\n"
     ]
    }
   ],
   "source": [
    "class Backpack:\n",
    "    def __init__(self,color,size):\n",
    "        self.items = [] #Empty list\n",
    "        print(self)\n",
    "        # self.color = color\n",
    "        # self.size = size\n",
    "\n",
    "\n",
    "my_backpack = Backpack(\"Blue\",10)  \n",
    "print(my_backpack)      "
   ]
  },
  {
   "cell_type": "code",
   "execution_count": 25,
   "id": "b4daba8f",
   "metadata": {},
   "outputs": [
    {
     "name": "stdout",
     "output_type": "stream",
     "text": [
      "10\n",
      "10\n"
     ]
    }
   ],
   "source": [
    "class Backpack:\n",
    "    max_num_items = 10 # Class Atrributes\n",
    "    def __init__(self):\n",
    "        self.items = []\n",
    "\n",
    "\n",
    "\n",
    "########\n",
    "first_1 = Backpack()\n",
    "print(first_1.max_num_items) \n",
    "print(Backpack().max_num_items)"
   ]
  },
  {
   "cell_type": "code",
   "execution_count": 36,
   "id": "5bc9c20d",
   "metadata": {},
   "outputs": [
    {
     "name": "stdout",
     "output_type": "stream",
     "text": [
      "3\n",
      "3\n",
      "1\n",
      "2\n"
     ]
    }
   ],
   "source": [
    "class Movie:\n",
    "    id_counter = 1\n",
    "    def __init__(self,title,rating):\n",
    "        self.id = Movie.id_counter\n",
    "        self.title = title\n",
    "        self.rating = rating\n",
    "\n",
    "        #Increment\n",
    "        Movie.id_counter+= 1\n",
    "\n",
    "#Call \n",
    "my_movie = Movie(\"sense and sensibility\",4.5)\n",
    "your_movie = Movie(\"Legends of the Fall\",4.7) \n",
    "print(my_movie.id_counter)   \n",
    "print(your_movie.id_counter) \n",
    "print(my_movie.id)   # Output: 1\n",
    "print(your_movie.id) # Output: 2     "
   ]
  },
  {
   "cell_type": "code",
   "execution_count": null,
   "id": "8d7bb5b9",
   "metadata": {},
   "outputs": [],
   "source": []
  },
  {
   "cell_type": "code",
   "execution_count": null,
   "id": "ebcf6542",
   "metadata": {},
   "outputs": [],
   "source": []
  }
 ],
 "metadata": {
  "kernelspec": {
   "display_name": "venv",
   "language": "python",
   "name": "python3"
  },
  "language_info": {
   "codemirror_mode": {
    "name": "ipython",
    "version": 3
   },
   "file_extension": ".py",
   "mimetype": "text/x-python",
   "name": "python",
   "nbconvert_exporter": "python",
   "pygments_lexer": "ipython3",
   "version": "3.12.11"
  }
 },
 "nbformat": 4,
 "nbformat_minor": 5
}
